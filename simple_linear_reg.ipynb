{
 "cells": [
  {
   "cell_type": "markdown",
   "id": "3286f5cd",
   "metadata": {},
   "source": [
    "# Simple Linear Regression with NumPy and Matplotlib"
   ]
  },
  {
   "cell_type": "markdown",
   "id": "e1f33179",
   "metadata": {},
   "source": [
    "## Libraries"
   ]
  },
  {
   "cell_type": "code",
   "execution_count": 1,
   "id": "52e661a8",
   "metadata": {},
   "outputs": [],
   "source": [
    "import numpy as np\n",
    "import matplotlib.pyplot as plt"
   ]
  },
  {
   "cell_type": "markdown",
   "id": "16a8ab9d",
   "metadata": {},
   "source": [
    "## Data"
   ]
  },
  {
   "cell_type": "markdown",
   "id": "c69174fc",
   "metadata": {},
   "source": [
    "Data consists of two increasing sequences of integer values."
   ]
  },
  {
   "cell_type": "code",
   "execution_count": 2,
   "id": "45f577c3",
   "metadata": {},
   "outputs": [
    {
     "data": {
      "text/plain": [
       "<function matplotlib.pyplot.show(close=None, block=None)>"
      ]
     },
     "execution_count": 2,
     "metadata": {},
     "output_type": "execute_result"
    },
    {
     "data": {
      "image/png": "[encoded data removed]",
      "text/plain": [
       "<Figure size 432x288 with 1 Axes>"
      ]
     },
     "metadata": {
      "needs_background": "light"
     },
     "output_type": "display_data"
    }
   ],
   "source": [
    "np.random.seed(1) # Makes the data reproducible\n",
    "\n",
    "x = np.sort(np.random.randint(20, size = 10))\n",
    "y = np.sort(np.random.randint(10, size = 10))\n",
    "\n",
    "plt.scatter(x,y)\n",
    "plt.title(\"Data scatter plot\", fontsize = 18)\n",
    "plt.xlabel(\"x-axis\", fontsize = 15)\n",
    "plt.ylabel(\"y-axis\", fontsize = 15)\n",
    "plt.show"
   ]
  },
  {
   "cell_type": "markdown",
   "id": "c5951282",
   "metadata": {},
   "source": [
    "According to the scatterplot, relationship between $x$ and $y$ is quite linear."
   ]
  },
  {
   "cell_type": "markdown",
   "id": "b92efbdf",
   "metadata": {},
   "source": [
    "## Model"
   ]
  },
  {
   "cell_type": "markdown",
   "id": "50cf3809",
   "metadata": {},
   "source": [
    "The model used is a simple linear regression model:\n",
    "\n",
    "$y = \\alpha + \\beta \\cdot x + \\epsilon$\n",
    "\n",
    "The regression is done with method of least squares. TO do this, values for coefficient $\\beta$ and intercept $\\alpha$ are calculated. The formulas for them are:\n",
    "\n",
    "$\\alpha = \\bar{y} - \\beta \\cdot x $\n",
    "\n",
    "$\\beta = \\sum {(x_i - \\bar{x})} \\sum {(y_i - \\bar{y})}$ / $\\sum{(x_i - \\bar{x})^2}$\n"
   ]
  },
  {
   "cell_type": "code",
   "execution_count": 3,
   "id": "66d744a7",
   "metadata": {},
   "outputs": [
    {
     "name": "stdout",
     "output_type": "stream",
     "text": [
      "The coefficient value is: 0.49\n",
      "The intercept value is: -0.31\n"
     ]
    }
   ],
   "source": [
    "mean_x = np.mean(x)\n",
    "mean_y = np.mean(y)\n",
    "\n",
    "numerator = np.sum(np.dot((x-mean_x),(y-mean_y)))\n",
    "denominator = np.dot((x-mean_x),(x-mean_x))\n",
    "\n",
    "b_hat = numerator/denominator\n",
    "\n",
    "intercept = mean_y - b_hat * mean_x\n",
    "\n",
    "print(\"The coefficient value is:\", round(b_hat, 2))\n",
    "print(\"The intercept value is:\", round(intercept,2))"
   ]
  },
  {
   "cell_type": "code",
   "execution_count": 65,
   "id": "69da86bf",
   "metadata": {},
   "outputs": [
    {
     "data": {
      "text/plain": [
       "<function matplotlib.pyplot.show(close=None, block=None)>"
      ]
     },
     "execution_count": 65,
     "metadata": {},
     "output_type": "execute_result"
    },
    {
     "data": {
      "image/png": "[encoded data removed]",
      "text/plain": [
       "<Figure size 432x288 with 1 Axes>"
      ]
     },
     "metadata": {
      "needs_background": "light"
     },
     "output_type": "display_data"
    }
   ],
   "source": [
    "plt.scatter(x,y)\n",
    "plt.plot(x, intercept + b_hat*x, color = 'darkviolet')\n",
    "\n",
    "plt.title(\"Regression fit\", fontsize = 18)\n",
    "plt.xlabel(\"x-axis\", fontsize = 15)\n",
    "plt.ylabel(\"y-axis\", fontsize = 15)\n",
    "plt.show"
   ]
  },
  {
   "cell_type": "markdown",
   "id": "cca80277",
   "metadata": {},
   "source": [
    "## Statistics"
   ]
  },
  {
   "cell_type": "markdown",
   "id": "0edaf5c2",
   "metadata": {},
   "source": [
    "How well does the linear model explain $y$? $R^2$ is a simple method to evaluate linear regression models' ability to predict the explained variable. The formula for $R^2$ is:\n",
    "\n",
    "$R^2 = (TSS - RSS)$ / $TSS$, where:\n",
    "\n",
    "$TSS = \\sum {(y_i - \\bar{y})}$ and\n",
    "\n",
    "$RSS = \\sum {(y_i - \\hat{y})} $"
   ]
  },
  {
   "cell_type": "code",
   "execution_count": 75,
   "id": "7df6f265",
   "metadata": {},
   "outputs": [
    {
     "name": "stdout",
     "output_type": "stream",
     "text": [
      "R-squared is:  0.85\n"
     ]
    }
   ],
   "source": [
    "tss = np.sum(np.dot(y-mean_y, y-mean_y))\n",
    "rss = np.sum (np.dot(y-b_hat*x,y-b_hat*x))\n",
    "r_squared = (tss-rss)/tss\n",
    "print(\"R-squared is: \", round(r_squared, 2))"
   ]
  },
  {
   "cell_type": "markdown",
   "id": "1b2e4997",
   "metadata": {},
   "source": [
    "According to $R^2$, $x$ explains 85% of the variation of $y$."
   ]
  }
 ],
 "metadata": {
  "kernelspec": {
   "display_name": "Python 3",
   "language": "python",
   "name": "python3"
  },
  "language_info": {
   "codemirror_mode": {
    "name": "ipython",
    "version": 3
   },
   "file_extension": ".py",
   "mimetype": "text/x-python",
   "name": "python",
   "nbconvert_exporter": "python",
   "pygments_lexer": "ipython3",
   "version": "3.8.8"
  }
 },
 "nbformat": 4,
 "nbformat_minor": 5
}
